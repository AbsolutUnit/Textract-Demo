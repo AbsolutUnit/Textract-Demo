{
  "nbformat": 4,
  "nbformat_minor": 0,
  "metadata": {
    "colab": {
      "name": "config.ipynb",
      "provenance": [],
      "collapsed_sections": [],
      "authorship_tag": "ABX9TyPTZIGjOU+RrA6l3QlrC5i2",
      "include_colab_link": true
    },
    "kernelspec": {
      "name": "python3",
      "display_name": "Python 3"
    },
    "language_info": {
      "name": "python"
    }
  },
  "cells": [
    {
      "cell_type": "markdown",
      "metadata": {
        "id": "view-in-github",
        "colab_type": "text"
      },
      "source": [
        "<a href=\"https://colab.research.google.com/github/AbsolutUnit/Textract-Pipeline/blob/main/config.ipynb\" target=\"_parent\"><img src=\"https://colab.research.google.com/assets/colab-badge.svg\" alt=\"Open In Colab\"/></a>"
      ]
    },
    {
      "cell_type": "markdown",
      "metadata": {
        "id": "zzUpSoxTY4Nb"
      },
      "source": [
        "# Preliminary Setup"
      ]
    },
    {
      "cell_type": "code",
      "metadata": {
        "colab": {
          "base_uri": "https://localhost:8080/"
        },
        "id": "zZnzbqYvvV5e",
        "outputId": "ab80e6a6-72b6-4fcd-82f9-db0be61f8cdb"
      },
      "source": [
        "!pip install boto3\n",
        "!pip install awscli\n",
        "!pip install PyMuPDF\n",
        "!pip install trp\n",
        "!pip install textract-trp\n",
        "!pip install pdf2image\n",
        "!pip install python-poppler"
      ],
      "execution_count": 1,
      "outputs": [
        {
          "output_type": "stream",
          "text": [
            "Requirement already satisfied: boto3 in /usr/local/lib/python3.7/dist-packages (1.18.4)\n",
            "Requirement already satisfied: s3transfer<0.6.0,>=0.5.0 in /usr/local/lib/python3.7/dist-packages (from boto3) (0.5.0)\n",
            "Requirement already satisfied: jmespath<1.0.0,>=0.7.1 in /usr/local/lib/python3.7/dist-packages (from boto3) (0.10.0)\n",
            "Requirement already satisfied: botocore<1.22.0,>=1.21.4 in /usr/local/lib/python3.7/dist-packages (from boto3) (1.21.4)\n",
            "Requirement already satisfied: urllib3<1.27,>=1.25.4 in /usr/local/lib/python3.7/dist-packages (from botocore<1.22.0,>=1.21.4->boto3) (1.25.11)\n",
            "Requirement already satisfied: python-dateutil<3.0.0,>=2.1 in /usr/local/lib/python3.7/dist-packages (from botocore<1.22.0,>=1.21.4->boto3) (2.8.1)\n",
            "Requirement already satisfied: six>=1.5 in /usr/local/lib/python3.7/dist-packages (from python-dateutil<3.0.0,>=2.1->botocore<1.22.0,>=1.21.4->boto3) (1.15.0)\n",
            "Requirement already satisfied: awscli in /usr/local/lib/python3.7/dist-packages (1.20.4)\n",
            "Requirement already satisfied: docutils<0.16,>=0.10 in /usr/local/lib/python3.7/dist-packages (from awscli) (0.15.2)\n",
            "Requirement already satisfied: rsa<4.8,>=3.1.2 in /usr/local/lib/python3.7/dist-packages (from awscli) (4.7.2)\n",
            "Requirement already satisfied: PyYAML<5.5,>=3.10 in /usr/local/lib/python3.7/dist-packages (from awscli) (3.13)\n",
            "Requirement already satisfied: s3transfer<0.6.0,>=0.5.0 in /usr/local/lib/python3.7/dist-packages (from awscli) (0.5.0)\n",
            "Requirement already satisfied: colorama<0.4.4,>=0.2.5 in /usr/local/lib/python3.7/dist-packages (from awscli) (0.4.3)\n",
            "Requirement already satisfied: botocore==1.21.4 in /usr/local/lib/python3.7/dist-packages (from awscli) (1.21.4)\n",
            "Requirement already satisfied: python-dateutil<3.0.0,>=2.1 in /usr/local/lib/python3.7/dist-packages (from botocore==1.21.4->awscli) (2.8.1)\n",
            "Requirement already satisfied: jmespath<1.0.0,>=0.7.1 in /usr/local/lib/python3.7/dist-packages (from botocore==1.21.4->awscli) (0.10.0)\n",
            "Requirement already satisfied: urllib3<1.27,>=1.25.4 in /usr/local/lib/python3.7/dist-packages (from botocore==1.21.4->awscli) (1.25.11)\n",
            "Requirement already satisfied: six>=1.5 in /usr/local/lib/python3.7/dist-packages (from python-dateutil<3.0.0,>=2.1->botocore==1.21.4->awscli) (1.15.0)\n",
            "Requirement already satisfied: pyasn1>=0.1.3 in /usr/local/lib/python3.7/dist-packages (from rsa<4.8,>=3.1.2->awscli) (0.4.8)\n",
            "Requirement already satisfied: PyMuPDF in /usr/local/lib/python3.7/dist-packages (1.18.15)\n",
            "Requirement already satisfied: trp in /usr/local/lib/python3.7/dist-packages (0.1.6a1)\n",
            "Requirement already satisfied: pymongo in /usr/local/lib/python3.7/dist-packages (from trp) (3.11.4)\n",
            "Requirement already satisfied: requests in /usr/local/lib/python3.7/dist-packages (from trp) (2.23.0)\n",
            "Requirement already satisfied: lxml in /usr/local/lib/python3.7/dist-packages (from trp) (4.2.6)\n",
            "Requirement already satisfied: urllib3!=1.25.0,!=1.25.1,<1.26,>=1.21.1 in /usr/local/lib/python3.7/dist-packages (from requests->trp) (1.25.11)\n",
            "Requirement already satisfied: certifi>=2017.4.17 in /usr/local/lib/python3.7/dist-packages (from requests->trp) (2021.5.30)\n",
            "Requirement already satisfied: idna<3,>=2.5 in /usr/local/lib/python3.7/dist-packages (from requests->trp) (2.10)\n",
            "Requirement already satisfied: chardet<4,>=3.0.2 in /usr/local/lib/python3.7/dist-packages (from requests->trp) (3.0.4)\n",
            "Requirement already satisfied: textract-trp in /usr/local/lib/python3.7/dist-packages (0.1.3)\n",
            "Requirement already satisfied: pdf2image in /usr/local/lib/python3.7/dist-packages (1.16.0)\n",
            "Requirement already satisfied: pillow in /usr/local/lib/python3.7/dist-packages (from pdf2image) (7.1.2)\n",
            "Collecting python-poppler\n",
            "  Using cached python-poppler-0.2.2.tar.gz (595 kB)\n",
            "Building wheels for collected packages: python-poppler\n",
            "  Building wheel for python-poppler (setup.py) ... \u001b[?25lerror\n",
            "\u001b[31m  ERROR: Failed building wheel for python-poppler\u001b[0m\n",
            "\u001b[?25h  Running setup.py clean for python-poppler\n",
            "Failed to build python-poppler\n",
            "Installing collected packages: python-poppler\n",
            "    Running setup.py install for python-poppler ... \u001b[?25l\u001b[?25herror\n",
            "\u001b[31mERROR: Command errored out with exit status 1: /usr/bin/python3 -u -c 'import io, os, sys, setuptools, tokenize; sys.argv[0] = '\"'\"'/tmp/pip-install-z7vfkfec/python-poppler_9bcb29e969aa47eea0df36c545362b79/setup.py'\"'\"'; __file__='\"'\"'/tmp/pip-install-z7vfkfec/python-poppler_9bcb29e969aa47eea0df36c545362b79/setup.py'\"'\"';f = getattr(tokenize, '\"'\"'open'\"'\"', open)(__file__) if os.path.exists(__file__) else io.StringIO('\"'\"'from setuptools import setup; setup()'\"'\"');code = f.read().replace('\"'\"'\\r\\n'\"'\"', '\"'\"'\\n'\"'\"');f.close();exec(compile(code, __file__, '\"'\"'exec'\"'\"'))' install --record /tmp/pip-record-20mb_ltp/install-record.txt --single-version-externally-managed --compile --install-headers /usr/local/include/python3.7/python-poppler Check the logs for full command output.\u001b[0m\n"
          ],
          "name": "stdout"
        }
      ]
    },
    {
      "cell_type": "code",
      "metadata": {
        "colab": {
          "base_uri": "https://localhost:8080/"
        },
        "id": "IsbzHSpwzHLm",
        "outputId": "dc7364d2-ddae-4485-b377-105bf351cf9f"
      },
      "source": [
        "!apt-get install poppler-utils "
      ],
      "execution_count": 2,
      "outputs": [
        {
          "output_type": "stream",
          "text": [
            "Reading package lists... Done\n",
            "Building dependency tree       \n",
            "Reading state information... Done\n",
            "poppler-utils is already the newest version (0.62.0-2ubuntu2.12).\n",
            "0 upgraded, 0 newly installed, 0 to remove and 40 not upgraded.\n"
          ],
          "name": "stdout"
        }
      ]
    },
    {
      "cell_type": "code",
      "metadata": {
        "id": "Aa5Lzc6EuxUq"
      },
      "source": [
        "import os\n",
        "import cv2\n",
        "import csv\n",
        "import cv2\n",
        "import fitz\n",
        "import json\n",
        "import numpy as np\n",
        "from trp import Document\n",
        "import matplotlib.pyplot as plt\n",
        "from matplotlib import gridspec\n",
        "from pdf2image import convert_from_path"
      ],
      "execution_count": 3,
      "outputs": []
    },
    {
      "cell_type": "code",
      "metadata": {
        "colab": {
          "base_uri": "https://localhost:8080/"
        },
        "id": "RulfDamAvNCb",
        "outputId": "6b2e0d9a-f72b-40a4-a076-b5ca0e44d69f"
      },
      "source": [
        "from google.colab import drive\n",
        "drive.mount('/content/gdrive', force_remount = True)"
      ],
      "execution_count": 4,
      "outputs": [
        {
          "output_type": "stream",
          "text": [
            "Mounted at /content/gdrive\n"
          ],
          "name": "stdout"
        }
      ]
    },
    {
      "cell_type": "code",
      "metadata": {
        "id": "BKB39Dtkydm_"
      },
      "source": [
        "os.chdir('gdrive/My Drive')"
      ],
      "execution_count": 5,
      "outputs": []
    },
    {
      "cell_type": "code",
      "metadata": {
        "id": "iwMXv2w_wzV_"
      },
      "source": [
        "def zero_runs(a):\n",
        "    # Create an array that is 1 where a is 0, and pad each end with an extra 0.\n",
        "    iszero = np.concatenate(([0], np.equal(a, 0).view(np.int8), [0]))\n",
        "    absdiff = np.abs(np.diff(iszero))\n",
        "    # Runs start and end where absdiff is 1.\n",
        "    ranges = np.where(absdiff == 1)[0].reshape(-1, 2)\n",
        "    return ranges"
      ],
      "execution_count": 6,
      "outputs": []
    },
    {
      "cell_type": "code",
      "metadata": {
        "id": "9nsfL4UAw5l8"
      },
      "source": [
        "# def visualize_hp(file_name, img, row_mw_cutpoints):\n",
        "#     row_highlight = cv2.cvtColor(img, cv2.COLOR_BGR2RGB)\n",
        "#     row_highlight[row_m == 0, :, :] = [255,191,191]\n",
        "#     row_highlight[row_split :] = [255,0,0]\n",
        "#     plot_horizontal_projection(file_name, row_highlight, row_m)\n",
        "\n",
        "# def visualize_vp(file_name, img, col_mn_cutpoints):\n",
        "#     col_highlight = cv2.cvtColor(img, cv2.COLOR_BGR2RGB)\n",
        "#     col_highlight[:, col_m == 0, :] = [255,191,191]\n",
        "#     col_highlight[:, col_split[255,0,0]\n",
        "#     plot_vertical_projection(file_name, col_highlight, col_m)"
      ],
      "execution_count": 7,
      "outputs": []
    },
    {
      "cell_type": "code",
      "metadata": {
        "id": "BAR3JNugw9T2"
      },
      "source": [
        "# def plot_horizontal_projection(file_name, img, projection):\n",
        "#     fig = plt.figure(1, figsize=(12,16))\n",
        "#     gs = gridspec.GridSpec(1, 2, width_ratios=[3,1])\n",
        "\n",
        "#     ax = plt.subplot(gs[0])\n",
        "#     im = ax.imshow(img, interpolation='nearest', aspect='auto')\n",
        "#     ax.grid(which='major', alpha=0.5)\n",
        "\n",
        "#     ax = plt.subplot(gs[1])\n",
        "#     ax.plot(projection, np.arange(img.shape[0]), 'm')\n",
        "#     ax.grid(which='major', alpha=0.5)\n",
        "#     plt.xlim([0.0, 255.0])\n",
        "#     plt.ylim([-0.5, img.shape[0] - 0.5])\n",
        "#     ax.invert_yaxis()\n",
        "\n",
        "#     fig.suptitle(\"FOO\", fontsize=16)\n",
        "#     gs.tight_layout(fig, rect=[0, 0.03, 1, 0.97])\n",
        "\n",
        "#     fig.set_dpi(200)\n",
        "\n",
        "#     fig.savefig(file_name, bbox_inches='tight', dpi=fig.dpi)\n",
        "#     plt.clf()"
      ],
      "execution_count": 8,
      "outputs": []
    },
    {
      "cell_type": "code",
      "metadata": {
        "id": "cKcyWHOBxAc2"
      },
      "source": [
        "# def plot_vertical_projection(file_name, img, projection):\n",
        "#     fig = plt.figure(2, figsize=(12, 4))\n",
        "#     gs = gridspec.GridSpec(2, 1, height_ratios=[1,5])\n",
        "\n",
        "#     ax = plt.subplot(gs[0])\n",
        "#     im = ax.imshow(img, interpolation='nearest', aspect='auto')\n",
        "#     ax.grid(which='major', alpha=0.5)\n",
        "\n",
        "#     ax = plt.subplot(gs[1])\n",
        "#     ax.plot(np.arange(img.shape[1]), projection, 'm')\n",
        "#     ax.grid(which='major', alpha=0.5)\n",
        "#     plt.xlim([-0.5, img.shape[1] - 0.5])\n",
        "#     plt.ylim([0.0, 255.0])\n",
        "\n",
        "#     fig.suptitle(\"FOO\", fontsize=16)\n",
        "#     gs.tight_layout(fig, rect=[0, 0.03, 1, 0.97])\n",
        "\n",
        "#     fig.set_dpi(200)\n",
        "\n",
        "#     fig.savefig(file_name, bbox_inches='tight', dpi=fig.dpi)\n",
        "#     plt.clf()"
      ],
      "execution_count": 9,
      "outputs": []
    },
    {
      "cell_type": "markdown",
      "metadata": {
        "id": "VMAOT15rZWoC"
      },
      "source": [
        "This opens the file descriptor for the JSON file, which is from the Textract Lambda Function. Then, the directory gets changed to the CSV folder, for CSV output."
      ]
    },
    {
      "cell_type": "code",
      "metadata": {
        "id": "2CDZ5CnewuyT"
      },
      "source": [
        "f = open('sent_file (3).json')"
      ],
      "execution_count": 10,
      "outputs": []
    },
    {
      "cell_type": "code",
      "metadata": {
        "id": "b0NGyrUE8BQt"
      },
      "source": [
        "os.chdir('/content/gdrive/My Drive/Textract Demo/CSV Output')"
      ],
      "execution_count": 11,
      "outputs": []
    },
    {
      "cell_type": "markdown",
      "metadata": {
        "id": "qelF1UItZfcD"
      },
      "source": [
        "The following is the CSV conversion function, which looks through all tables and cells to compile a list of cells and output them into a CSV file."
      ]
    },
    {
      "cell_type": "code",
      "metadata": {
        "id": "Fse0FnYX8Bws"
      },
      "source": [
        "t_doc = Document(json.load(f))\n",
        "with open('exported_json.csv', 'w', newline='') as f:\n",
        "    writer = csv.writer(f, delimiter=',')\n",
        "    for page in t_doc.pages:\n",
        "        for table in page.tables:\n",
        "            for r, row in enumerate(table.rows):\n",
        "                row_ex = []\n",
        "                for c, cell in enumerate(row.cells):\n",
        "                    row_ex.append(cell.text.strip())\n",
        "                writer.writerow(row_ex)\n",
        "            writer.writerow([])\n",
        "f.close()"
      ],
      "execution_count": 12,
      "outputs": []
    },
    {
      "cell_type": "code",
      "metadata": {
        "id": "FLVyz2n2UmZm"
      },
      "source": [
        "os.chdir('/content/gdrive/My Drive')"
      ],
      "execution_count": 13,
      "outputs": []
    },
    {
      "cell_type": "markdown",
      "metadata": {
        "id": "VFCLJb3bZloL"
      },
      "source": [
        "Change to main directory to obtain another file descriptor for the JSON file."
      ]
    },
    {
      "cell_type": "code",
      "metadata": {
        "id": "6roS4D1EUmrC"
      },
      "source": [
        "f2 = open('sent_file (3).json')"
      ],
      "execution_count": 14,
      "outputs": []
    },
    {
      "cell_type": "code",
      "metadata": {
        "id": "alWUrxzb8FRW"
      },
      "source": [
        "os.chdir('/content/gdrive/My Drive/Textract Demo/JSON Output')"
      ],
      "execution_count": 15,
      "outputs": []
    },
    {
      "cell_type": "markdown",
      "metadata": {
        "id": "qAy5XXtgZpDl"
      },
      "source": [
        "Walks through the JSON file's parameters and compiles tables to append to a list. This list is then appended to the pages list and dumped into a JSON file as output."
      ]
    },
    {
      "cell_type": "code",
      "metadata": {
        "colab": {
          "base_uri": "https://localhost:8080/"
        },
        "id": "9Gpyz9_J8U07",
        "outputId": "8847cfcc-5d87-4da5-c583-fc4916b0e901"
      },
      "source": [
        "t_doc = Document(json.load(f2))\n",
        "pages = []\n",
        "for page in t_doc.pages:\n",
        "  tables = []\n",
        "  for table in page.tables:\n",
        "    table_ex = []\n",
        "    for r, row in enumerate(table.rows):\n",
        "      row_ex = []\n",
        "      for c, cell in enumerate(row.cells):\n",
        "          row_ex.append(cell.text.strip())\n",
        "      if row_ex:\n",
        "        table_ex.append(row_ex)\n",
        "    if table:\n",
        "      tables.append(table_ex)\n",
        "  if tables:\n",
        "    pages.append(tables)\n",
        "print(pages)\n",
        "ret_js = json.dumps(pages)\n",
        "with open(\"export_json.json\", \"w\") as outfile:\n",
        "  outfile.write(ret_js)"
      ],
      "execution_count": 16,
      "outputs": [
        {
          "output_type": "stream",
          "text": [
            "[[], [], [[['', '', 'New Estimates', '', '%', 'change (YoY)', '', 'Old', 'Estimates', '', '% change', '(Newvs.', 'Old)'], ['', '2017E', '2018E', '2019E', '17E/16A', '18E/17E', '19E/18E', '2017E', '2018E', '2019E', '2017E', '2018E', '2019E'], ['Net Revenues', '33,655', '32,781', '34,013', '16%', '-3%', '4%', '31,711', '32,484', '33,664', '6%', '1%', '1%'], ['Cash COGS', '17,506', '17,234', '17,596', '10%', '-2%', '2%', '17,529', '17,244', '17,817', '0%', '0%', '-1%'], ['EBITDA', '14,819', '14,058', '14,987', '26%', '-5%', '7%', '12,886', '13,740', '14,403', '15%', '2%', '4%'], ['EBITDA Margin', '44%', '43%', '44%', '3.4 pp', ', -1.1 pp', '1.2 pp', '41%', '42%', '43%', ', 3.4 pp', '0.6 pp', ', 1.3 pp'], ['Net Income', '6,611', '5,288', '7,031', '180%', '-20%', '33%', '4,721', '5,094', '6,530', '40%', '4%', '8%'], ['EPS', '1.31', '1.03', '1.36', '86%', '-21%', '33%', '0.94', '0.99', '1.27', '39%', '4%', '8%'], ['Capex', '4,427', '4,473', '4,001', '-19%', '1%', '-11%', '4,451', '4,417', '3,963', '-1%', '1%', '1%'], ['Dividends', '1,709', '5,000', '7,000', '0%', '0%', '-29%', '1,709', '5,000', '7,000', '0%', '0%', '0%'], ['FCF to firm', '10,203', '9,514', '8,731', '215%', '-7%', '-8%', '7,995', '8,948', '9,024', '28%', '6%', '-3%'], ['FCF to equity', '8,348', '7,943', '7,478', '430%', '-5%', '-6%', '6,115', '7,361', '7,647', '37%', '8%', '-2%'], ['USD/BRL (Avg.)', '3.17', '3.29', '3.35', '-9%', '4%', '2%', '3.23', '3.36', '3.42', '-2%', '-2%', '-2%'], ['Iron Ore (Mt)', '353', '375', '380', '4%', '6%', '1%', '361', '370', '380', '-2%', '1%', '0%'], ['Iron ore fines', '302', '321', '325', '3%', '6%', '1%', '309', '316', '325', '-2%', '2%', '0%'], ['Iron ore pellets', '52', '54', '54', '8%', '4%', '1%', '52', '54', '54', '0%', '0%', '0%'], ['Nickel (kt)', '305', '306', '314', '-2%', '0%', '3%', '305', '296', '303', '0%', '3%', '4%'], ['Copper (kt)', '438', '469', '469', '2%', '7%', '0%', '438', '448', '448', '0%', '5%', '5%'], ['Realized Prices (US$/t)', '', '', '', '', '', '', '', '', '', '', '', ''], ['Iron Ore', '68.1', '63.3', '62.9', '18%', '-7%', '-1%', '62.3', '63.7', '62.9', '9%', '-1%', '0%'], ['Fines', '61.8', '57.1', '56.7', '15%', '-8%', '-1%', '56.0', '57.4', '56.7', '10%', '-1%', '0%'], ['Pellets', '104.7', '100.1', '99.8', '30%', '-4%', '0%', '99.5', '100.5', '99.8', '5%', '0%', '0%'], ['Nickel', '9,977', '8,700', '10,000', '2%', '-13%', '15%', '9,735', '8,500', '10,000', '2%', '2%', '0%'], ['Copper', '5,306', '4,664', '5,368', '19%', '-12%', '15%', '5,149', '4,664', '5,368', '3%', '0%', '0%']], [['FYE Dec', '2015A', '2016A', '2017E (Prev)', '2017E (Curr)', '2018E (Prev)', '2018E (Curr)'], ['EPS - Recurring ($) FY', '(0.27)', '1.34', '1.00', '1.37', '0.99', '1.03'], ['Revenue FY ($ mn)', '25,609', '28,934', '31,711', '33,655', '32,484', '32,781'], ['EBITDA FY ($ mn)', '7,080', '11,752', '12,886', '14,819', '13,740', '14,058']], [['Company Data', ''], ['Price ($)', '11.30'], ['Date Of Price', '01 Sep 17'], ['52-week Range ($)', '11.70-4.86'], ['Market Cap ($ mn)', '58,233.14'], ['Fiscal Year End', 'Dec'], ['Shares O/S (mn)', '5,153'], ['Price Target ($)', '14.00'], ['Price Target End Date', '31-Dec-18']]], [[['FYE Dec', '2015A', '2016A', '2017E (Prev)', '2017E (Curr)', '2018E (Prev)', '2018E (Curr)'], ['EPS Recurring ($) FY', '(0.27)', '1.34', '1.00', '1.37', '0.99', '1.03'], ['Revenue FY ($ mn)', '25,609', '28,934', '31,711', '33,655', '32,484', '32,781'], ['EBITDA FY ($ mn)', '7,080', '11,752', '12,886', '14,819', '13,740', '14,058']], [['Company Data', ''], ['Price ($)', '10.49'], ['Date Of Price', '01 Sep 17'], ['52-week Range ($)', '11.10-4.13'], ['Market Cap ($ mn)', '54,058.90'], ['Fiscal Year End', 'Dec'], ['Shares O/S (mn)', '5,153'], ['Price Target ($)', '13.00'], ['Price Target End Date', '31-Dec-18']]], [], [[['Income Statement', 'FY16A', 'FY17E', 'FY18E', 'FY19E', 'FY20E', 'Balance Sheet', 'FY16A', 'FY17E', 'FY18E', 'FY19E', 'FY20E'], ['Revenues', '28,934', '33,655', '32,781', '34,013', '-', 'Cash', '4,280', '5,165', '7,244', '7,258', '-'], ['COGS ex D&A', '(15,930)', '(17,506)', '(17,234)', '(17,596)', '-', 'Accounts receivable', '3,663', '3,509', '2,885', '3,061', '-'], ['SG&A', '(563)', '(611)', '(666)', '(684)', '-', 'Inventories', '3,349', '5,102', '4,123', '4,167', '-'], ['Depreciation', '(3,834)', '(3,598)', '(3,598)', '(3,446)', '-', 'Other current assets', '11,275', '2,149', '978', '357', '-'], ['EBITDA', '11,752', '14,819', '14,058', '14,987', '-', 'Total Current Assets', '22,567', '15,924', '15,230', '14,843', '-'], ['EBITDA margin', '42.4%', '46.3%', '45.1%', '46.3%', '-', 'Net PP&E', '55,419', '55,290', '56,166', '56,720', '-'], ['Financial income', '185', '363', '363', '477', '-', 'Other assets', '21,028', '23,678', '23,535', '23,375', '-'], ['Financial expense', '(2,310)', '(2,663)', '(2,281)', '(2,039)', '-', 'Total assets', '99,014', '94,893', '94,930', '94,938', '-'], ['Other Nonoperarting income', '(1,113)', '(1,124)', '(1,183)', '(1,114)', '-', 'Short-term debt', '1,660', '2,939', '2,939', '2,939', '-'], ['Equity income', '312', '158', '143', '160', '-', 'Accounts payable', '3,630', '2,632', '2,622', '3,231', '-'], ['EBT', '8,745', '9,018', '7,749', '9,554', '-', 'Other current liabilities', '5,942', '3,491', '3,401', '3,359', '-'], ['Taxes', '(2,151)', '(2,022)', '(1,915)', '(2,362)', '-', 'Total Current Liabilities', '11,232', '9,062', '8,962', '9,529', '-'], ['Minority interest', '6', '(118)', '(688)', '(321)', '-', 'Long-term debt', '27,662', '20,789', '20,789', '20,789', '-'], ['Extraordinary', '(4,549)', '(426)', '0', '0', '-', 'Other liabilities', '19,096', '17,304', '16,621', '15,900', '-'], ['Net income', '2,363', '6,611', '5,288', '7,031', '-', 'Total liabilities', '57,990', '47,155', '46,372', '46,218', '-'], ['Net Income Recurring', '6,912', '7,037', '5,288', '7,031', '-', 'Minority Interests', '1,982', '1,629', '1,657', '1,663', '-'], ['Net income margin (recurring)', '23.9%', '20.9%', '16.1%', '20.7%', '-', \"Shareholders' equity\", '39,042', '46,109', '46,901', '47,057', '-'], ['EPS', '0.46', '1.28', '1.03', '1.36', '-', 'Liabilities + Equity', '99,014', '94,893', '94,930', '94,938', '-'], ['EPS Recurring', '1.34', '1.37', '1.03', '1.36', '-', '', '', '', '', '', ''], ['Revenue growth', '13.0%', '16.3%', '(2.6%)', '3.8%', '-', 'Net debt', '25,042', '18,563', '16,484', '16,470', '-'], ['EBITDA growth', '66.0%', '26.1%', '(5.1%)', '6.6%', '-', 'Net Debt/Capital', '38.3%', '26.9%', '23.5%', '23.3%', '-'], ['Net income growth', '(124.5%)', '179.8%', '(20.0%)', '33.0%', '-', 'Debt/Capital', '37.9%', '28.0%', '25.3%', '25.3%', '-'], ['FCF growth', '(677.1%)', '(249.4%)', '17.7%', '(3.3%)', '-', 'Net Debt/EBITDA', '2.0', '1.2', '1.1', '1.0', '-'], ['Operating Data, Ratios', 'FY16A', 'FY17E', 'FY18E', 'FY19E', 'FY20E', 'Valuation, Macro', 'FY16A', 'FY17E', 'FY18E', 'FY19E', 'FY20E'], ['CAPEX', '(5,478)', '(4,784)', '(4,473)', '(4,001)', '-', 'EV/EBITDA', '7.2', '5.2', '5.4', '5.0', '-'], ['Change in Working Capital', '(4,555)', '1,186', '2,674', '967', '-', 'P/E', '24.6', '8.8', '11.0', '8.3', '-'], ['Free cash flow', '(5,319)', '7,946', '9,353', '9,049', '-', 'P/BV', '1.5', '1.3', '1.2', '1.2', '-'], ['Dividends', '(379)', '(1,709)', '(5,000)', '(7,000)', '-', 'EV/tonne', '258.5', '230.0', '211.1', '208.0', '-'], ['Dividend % of net income', '16.0%', '25.9%', '94.5%', '99.6%', '-', 'FCF yield', '(9.1%)', '13.6%', '16.1%', '15.5%', '-'], ['Capex/depreciation', '1.4', '1.3', '1.2', '1.2', '-', 'Dividend yield', '0.7%', '2.9%', '8.6%', '12.0%', '-'], ['CAPEX/sales', '18.9%', '14.2%', '13.6%', '11.8%', '-', 'ROE', '19.0%', '16.5%', '11.4%', '15.0%', '-'], ['Working capital', '11,335', '6,862', '6,267', '5,314', '-', 'Net income margin', '23.9%', '20.9%', '16.1%', '20.7%', '-'], ['Working capital/sales', '0.4', '0.2', '0.2', '0.2', '-', 'Net revenue/Assets', '30.9%', '34.7%', '34.5%', '35.8%', '-'], ['', '', '', '', '', '', 'Assets/Equity', '2.6', '2.3', '2.0', '2.0', '2.0'], ['Shipments', '341,145', '353,314', '374,799', '379,689', '-', 'ROCE', '9.1%', '12.6%', '11.2%', '12.3%', '-'], ['Avg price/t', '84.8', '95.3', '87.5', '89.6', '-', 'Shares', '5,153', '5,153', '5,153', '5,153', '-'], ['Cash COGS/t', '46.7', '49.5', '46.0', '46.3', '-', 'ADRs', '5,153', '5,153', '5,153', '5,153', '-'], ['EBITDA/t', '34.4', '41.9', '37.5', '39.5', '-', '', '', '', '', '', ''], ['', '', '', '', '', '', 'WACC', '10.2%', '', '', '', ''], ['Shipments chg', '1.9%', '3.6%', '6.1%', '1.3%', '-', '', '', '', '', '', ''], ['Avg price/t chg', '10.9%', '12.3%', '(8.2%)', '2.4%', '-', '', '', '', '', '', ''], ['Cash COGS/t chg', '(7.9%)', '6.1%', '(7.2%)', '0.8%', '-', '', '', '', '', '', ''], ['EBITDA/t chg', '63.0%', '21.8%', '(10.6%)', '5.2%', '-', '', '', '', '', '', ''], ['Capex', '(5,478)', '(4,784)', '(4,473)', '(4,001)', '-', '', '', '', '', '', ''], ['Maintenance', '(2,302)', '(2,272)', '(2,304)', '(2,332)', '-', '', '', '', '', '', ''], ['Expansion', '(3,176)', '(2,512)', '(2,168)', '(1,668)', '-', '', '', '', '', '', '']]], [[['Income Statement', 'FY16A', 'FY17E', 'FY18E', 'FY19E', 'FY20E', 'Balance Sheet', 'FY16A', 'FY17E', 'FY18E', 'FY19E', 'FY20E'], ['Revenues', '28,934', '33,655', '32,781', '34,013', '-', 'Cash', '4,280', '5,165', '7,244', '7,258', '-'], ['COGS ex D&A', '(15,930)', '(17,506)', '(17,234)', '(17,596)', '-', 'Accounts receivable', '3,663', '3,509', '2,885', '3,061', '-'], ['SG&A', '(563)', '(611)', '(666)', '(684)', '-', 'Inventories', '3,349', '5,102', '4,123', '4,167', '-'], ['Depreciation', '(3,834)', '(3,598)', '(3,598)', '(3,446)', '-', 'Other current assets', '11,275', '2,149', '978', '357', '-'], ['EBITDA', '11,752', '14,819', '14,058', '14,987', '-', 'Total Current Assets', '22,567', '15,924', '15,230', '14,843', '-'], ['EBITDA margin', '42.4%', '46.3%', '45.1%', '46.3%', '-', 'Net PP&E', '55,419', '55,290', '56,166', '56,720', '-'], ['Financial income', '185', '363', '363', '477', '-', 'Other assets', '21,028', '23,678', '23,535', '23,375', '-'], ['Financial expense', '(2,310)', '(2,663)', '(2,281)', '(2,039)', '-', 'Total assets', '99,014', '94,893', '94,930', '94,938', '-'], ['Other Nonoperarting income', '(1,113)', '(1,124)', '(1,183)', '(1,114)', '-', 'Short-term debt', '1,660', '2,939', '2,939', '2,939', '-'], ['Equity income', '312', '158', '143', '160', '-', 'Accounts payable', '3,630', '2,632', '2,622', '3,231', '-'], ['EBT', '8,745', '9,018', '7,749', '9,554', '-', 'Other current liabilities', '5,942', '3,491', '3,401', '3,359', '-'], ['Taxes', '(2,151)', '(2,022)', '(1,915)', '(2,362)', '-', 'Total Current Liabilities', '11,232', '9,062', '8,962', '9,529', '-'], ['Minority interest', '6', '(118)', '(688)', '(321)', '-', 'Long-term debt', '27,662', '20,789', '20,789', '20,789', '-'], ['Extraordinary', '(4,549)', '(426)', '0', '0', '-', 'Other liabilities', '19,096', '17,304', '16,621', '15,900', '-'], ['Net income', '2,363', '6,611', '5,288', '7,031', '-', 'Total liabilities', '57,990', '47,155', '46,372', '46,218', '-'], ['Net Income Recurring', '6,912', '7,037', '5,288', '7,031', '-', 'Minority Interests', '1,982', '1,629', '1,657', '1,663', '-'], ['Net income margin (recurring)', '23.9%', '20.9%', '16.1%', '20.7%', '-', \"Shareholders' equity\", '39,042', '46,109', '46,901', '47,057', '-'], ['EPS', '0.46', '1.28', '1.03', '1.36', '-', 'Liabilities + Equity', '99,014', '94,893', '94,930', '94,938', '-'], ['EPS Recurring', '1.34', '1.37', '1.03', '1.36', '-', '', '', '', '', '', ''], ['Revenue growth', '13.0%', '16.3%', '(2.6%)', '3.8%', '-', 'Net debt', '25,042', '18,563', '16,484', '16,470', '-'], ['EBITDA growth', '66.0%', '26.1%', '(5.1%)', '6.6%', '-', 'Net Debt/Capital', '38.3%', '26.9%', '23.5%', '23.3%', '-'], ['Net income growth', '(124.5%)', '179.8%', '(20.0%)', '33.0%', '-', 'Debt/Capital', '37.9%', '28.0%', '25.3%', '25.3%', '-'], ['FCF growth', '(677.1%)', '(249.4%)', '17.7%', '(3.3%)', '-', 'Net Debt/EBITDA', '2.0', '1.2', '1.1', '1.0', '-'], ['Operating Data, Ratios', 'FY16A', 'FY17E', 'FY18E', 'FY19E', 'FY20E', 'Valuation, Macro', 'FY16A', 'FY17E', 'FY18E', 'FY19E', 'FY20E'], ['CAPEX', '(5,478)', '(4,784)', '(4,473)', '(4,001)', '-', 'EV/EBITDA', '7.4', '5.4', '5.5', '5.2', '-'], ['Change in Working Capital', '(4,555)', '1,186', '2,674', '967', '-', 'P/E', '22.9', '8.2', '10.2', '7.7', '-'], ['Free cash flow', '(5,319)', '7,946', '9,353', '9,049', '-', 'P/BV', '1.4', '1.2', '1.2', '1.1', '-'], ['Dividends', '(379)', '(1,709)', '(5,000)', '(7,000)', '-', 'EV/tonne', '264.6', '235.9', '216.7', '213.5', '-'], ['Dividend % of net income', '16.0%', '25.9%', '94.5%', '99.6%', '-', 'FCF yield', '(9.8%)', '14.7%', '17.3%', '16.7%', '-'], ['Capex/depreciation', '1.4', '1.3', '1.2', '1.2', '-', 'Dividend yield', '0.7%', '3.2%', '9.2%', '12.9%', '-'], ['CAPEX/sales', '18.9%', '14.2%', '13.6%', '11.8%', '-', 'ROE', '19.0%', '16.5%', '11.4%', '15.0%', '-'], ['Working capital', '11,335', '6,862', '6,267', '5,314', '-', 'Net income margin', '23.9%', '20.9%', '16.1%', '20.7%', '-'], ['Working capital/sales', '0.4', '0.2', '0.2', '0.2', '-', 'Net revenue/Assets', '30.9%', '34.7%', '34.5%', '35.8%', '-'], ['', '', '', '', '', '', 'Assets/Equity', '2.6', '2.3', '2.0', '2.0', '2.0'], ['Shipments', '341,145', '353,314', '374,799', '379,689', '-', 'ROCE', '9.1%', '12.6%', '11.2%', '12.3%', '-'], ['Avg price/t', '84.8', '95.3', '87.5', '89.6', '-', 'Shares', '5,153', '5,153', '5,153', '5,153', '-'], ['Cash COGS/t', '46.7', '49.5', '46.0', '46.3', '-', 'ADRs', '5,153', '5,153', '5,153', '5,153', '-'], ['EBITDA/t', '34.4', '41.9', '37.5', '39.5', '-', '', '', '', '', '', ''], ['', '', '', '', '', '', 'WACC', '10.2%', '', '', '', ''], ['Shipments chg', '1.9%', '3.6%', '6.1%', '1.3%', '-', '', '', '', '', '', ''], ['Avg price/t chg', '10.9%', '12.3%', '(8.2%)', '2.4%', '-', '', '', '', '', '', ''], ['Cash COGS/t chg', '(7.9%)', '6.1%', '(7.2%)', '0.8%', '-', '', '', '', '', '', ''], ['EBITDA/t chg', '63.0%', '21.8%', '(10.6%)', '5.2%', '-', '', '', '', '', '', ''], ['Capex', '(5,478)', '(4,784)', '(4,473)', '(4,001)', '-', '', '', '', '', '', ''], ['Maintenance', '(2,302)', '(2,272)', '(2,304)', '(2,332)', '-', '', '', '', '', '', ''], ['Expansion', '(3,176)', '(2,512)', '(2,168)', '(1,668)', '-', '', '', '', '', '', '']]], [], [[['Date', 'Rating', 'Share Price ($)', 'Price Target ($)'], ['29-Sep-14', 'OW', '9.49', '16.00'], ['08-Dec-14', 'OW', '6.85', '11.00'], ['28-Jan-15', 'OW', '6.23', '11.50'], ['09-Mar-15', 'OW', '5.60', '9.50'], ['15-Apr-15', 'N', '5.15', '6.50'], ['29-Jun-15', 'N', '5.22', '7.00'], ['31-Aug-15', 'N', '3.88', '5.00'], ['18-Sep-15', 'N', '4.05', '5.50'], ['18-Jan-16', 'N', '1.80', '--'], ['12-Sep-16', 'OW', '4.52', '6.00'], ['01-Nov-16', 'OW', '6.38', '7.50'], ['04-Dec-16', 'OW', '7.79', '9.50'], ['06-Feb-17', 'OW', '9.10', '11.50'], ['27-Mar-17', 'OW', '8.90', '12.50'], ['01-May-17', 'OW', '8.28', '11.50'], ['19-Jul-17', 'OW', '8.88', '11.00'], ['17-Aug-17', 'OW', '9.32', '10.50']], [['Date', 'Rating', 'Share Price ($)', 'Price Target ($)'], ['29-Sep-14', 'OW', '10.87', '17.50'], ['08-Dec-14', 'OW', '8.02', '12.00'], ['28-Jan-15', 'OW', '6.91', '11.50'], ['09-Mar-15', 'OW', '6.42', '9.50'], ['15-Apr-15', 'N', '6.13', '7.00'], ['29-Jun-15', 'N', '6.12', '7.50'], ['31-Aug-15', 'N', '4.95', '5.50'], ['18-Sep-15', 'N', '5.15', '6.00'], ['18-Jan-16', 'N', '2.37', '--'], ['05-May-16', 'N', '4.63', '5.00'], ['12-Sep-16', 'OW', '5.40', '7.00'], ['01-Nov-16', 'OW', '6.90', '8.50'], ['04-Dec-16', 'OW', '8.66', '10.50'], ['06-Feb-17', 'OW', '9.56', '11.50'], ['09-Mar-17', 'OW', '9.47', '12.50'], ['27-Mar-17', 'OW', '9.34', '13.50'], ['01-May-17', 'OW', '8.68', '12.50'], ['19-Jul-17', 'OW', '9.13', '12.00'], ['17-Aug-17', 'OW', '10.03', '11.00']]], [[['', 'Overweight (buy)', 'Neutral (hold)', 'Underweight (sell)'], ['J.P. Morgan Global Equity Research Coverage', '44%', '45%', '11%'], ['IB clients*', '52%', '50%', '31%'], ['JPMS Equity Research Coverage', '44%', '50%', '6%'], ['IB clients*', '68%', '65%', '46%']]], [], []]\n"
          ],
          "name": "stdout"
        }
      ]
    },
    {
      "cell_type": "code",
      "metadata": {
        "id": "3ibAvQ1y_EaP"
      },
      "source": [
        "os.chdir('/content/gdrive/My Drive')"
      ],
      "execution_count": 17,
      "outputs": []
    },
    {
      "cell_type": "markdown",
      "metadata": {
        "id": "mao1d49oZx_T"
      },
      "source": [
        "Here, we are converting the pages of the pdf to images."
      ]
    },
    {
      "cell_type": "code",
      "metadata": {
        "id": "AF2_rgyjxqDN"
      },
      "source": [
        "image = convert_from_path(\"sent_file.pdf\")\n",
        "i = 0"
      ],
      "execution_count": 18,
      "outputs": []
    },
    {
      "cell_type": "code",
      "metadata": {
        "id": "6QSVaonu0aTx"
      },
      "source": [
        "os.chdir('/content/gdrive/My Drive/Textract Demo/Graphs Output')"
      ],
      "execution_count": 19,
      "outputs": []
    },
    {
      "cell_type": "markdown",
      "metadata": {
        "id": "5EniZ4A2Z1G0"
      },
      "source": [
        "This code iterates through each page and saves it in the Graphs folder as a PNG file."
      ]
    },
    {
      "cell_type": "code",
      "metadata": {
        "colab": {
          "base_uri": "https://localhost:8080/"
        },
        "id": "7Ix7y7iy0a-_",
        "outputId": "b0ee99aa-6fa5-4c36-847e-d5a5a7522524"
      },
      "source": [
        "i = 0\n",
        "for img in image:\n",
        "  print(\"Hi\")\n",
        "  img.save('Img_Out' + str(i) + '\\out.png', 'PNG')\n",
        "  i += 1\n",
        "res = []\n"
      ],
      "execution_count": 20,
      "outputs": [
        {
          "output_type": "stream",
          "text": [
            "Hi\n",
            "Hi\n",
            "Hi\n",
            "Hi\n",
            "Hi\n",
            "Hi\n",
            "Hi\n",
            "Hi\n",
            "Hi\n",
            "Hi\n",
            "Hi\n",
            "Hi\n"
          ],
          "name": "stdout"
        }
      ]
    },
    {
      "cell_type": "markdown",
      "metadata": {
        "id": "sFuZ1t9DZ6Vx"
      },
      "source": [
        "This bulk of code is the main OpenCV usage.\n",
        "In this, borderlines are drawn horizontally and vertically, creating cutpoints along the document. This helps to highlight the sectioned parts and break up the image PDF into segments to find the larger bounding boxes."
      ]
    },
    {
      "cell_type": "code",
      "metadata": {
        "id": "h9SHU1xV1vJX"
      },
      "source": [
        "for i in range(0, 12):\n",
        "  \n",
        "  img = cv2.imread('Img_Out' + str(i) + '\\out.png', cv2.IMREAD_COLOR)\n",
        "  img_gray_inverted = 255 - cv2.cvtColor(img, cv2.COLOR_BGR2GRAY)\n",
        "\n",
        "  row_m = cv2.reduce(img_gray_inverted, 1, cv2.REDUCE_AVG, dtype=cv2.CV_32F).flatten()\n",
        "  row_g = zero_runs(row_m)\n",
        "  row_split = (row_g[:,0] + row_g[:,1] - 1) / 2\n",
        "  row_split = row_split.astype(int)\n",
        "\n",
        "  #visualize_hp(\"Img_Out8\\out_hp.png\", img, row_m, row_split)\n",
        "\n",
        "  bbox = []\n",
        "  for n,(start,end) in enumerate(zip(row_split, row_split[1:])):\n",
        "      line = img[start:end]\n",
        "      line_gray_inverted = img_gray_inverted[start:end]\n",
        "\n",
        "      col_m = cv2.reduce(line_gray_inverted, 0, cv2.REDUCE_AVG, dtype=cv2.CV_32F).flatten()\n",
        "      col_g = zero_runs(col_m)\n",
        "      column_gap_sizes = col_g[:,1] - col_g[:,0]\n",
        "      col_split = (col_g[:,0] + col_g[:,1] - 1) / 2\n",
        "      col_split = col_split.astype(int)\n",
        "\n",
        "      filtered_cutpoints = col_split[column_gap_sizes > 5]\n",
        "\n",
        "      for xstart,xend in zip(filtered_cutpoints, filtered_cutpoints[1:]):\n",
        "          bbox.append(((xstart, start), (xend, end)))\n",
        "\n",
        "      #visualize_vp(\"article_vp_%02d.png\" % n, line, col_m, filtered_cutpoints)\n",
        "\n",
        "  result = img.copy()\n",
        "\n",
        "  for bounding_box in bbox:\n",
        "      cv2.rectangle(result, bounding_box[0], bounding_box[1], (255,0,0), 2)\n",
        "\n",
        "  if result.any():\n",
        "    cv2.imwrite(\"article_boxes_page_\" + str(i) + \".png\", result)\n",
        "  else:\n",
        "    continue\n",
        "    \n",
        "for i in range(0, 12):\n",
        "  os.remove('Img_Out' + str(i) + '\\out.png')"
      ],
      "execution_count": 21,
      "outputs": []
    },
    {
      "cell_type": "markdown",
      "metadata": {
        "id": "89622mAAaLu4"
      },
      "source": [
        "# TODO\n",
        "Find a method of accurately pulling most, if not all graphs and tables. This means finding the threshold for filtering them out from lines of text, but this becomes problematic when tables are arranged in a non-normal manner. Borderless tables, lineless tables, and Excel-cell like tables with large cell widths are problematic since they cause the bounding box to be split into multiple smaller ones, which may be filtered by the size threshold."
      ]
    }
  ]
}